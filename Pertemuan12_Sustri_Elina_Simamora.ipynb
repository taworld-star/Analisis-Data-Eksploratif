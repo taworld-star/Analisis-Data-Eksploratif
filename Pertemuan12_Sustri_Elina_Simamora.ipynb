{
  "nbformat": 4,
  "nbformat_minor": 0,
  "metadata": {
    "colab": {
      "provenance": []
    },
    "kernelspec": {
      "name": "python3",
      "display_name": "Python 3"
    },
    "language_info": {
      "name": "python"
    }
  },
  "cells": [
    {
      "cell_type": "markdown",
      "source": [
        "# UJI **HIPOTESIS**"
      ],
      "metadata": {
        "id": "JzmSvoFKhdYQ"
      }
    },
    {
      "cell_type": "markdown",
      "source": [
        "Z Test digunakan untuk jumlah data yang lebih besar dari 30"
      ],
      "metadata": {
        "id": "A1mFWSJshlef"
      }
    },
    {
      "cell_type": "code",
      "execution_count": 1,
      "metadata": {
        "id": "nxnaMlaHhWjT"
      },
      "outputs": [],
      "source": [
        "#48% orang tua mempercayai bahwa sosial media menyebabkan anak mereka stress\n",
        "\n",
        "import statsmodels.api as sm\n",
        "import numpy as np\n",
        "import pandas as pd\n",
        "import matplotlib.pyplot as plt\n",
        "import seaborn as sns"
      ]
    },
    {
      "cell_type": "code",
      "source": [
        "n=4500\n",
        "pnull=0.48\n",
        "phat = 0.65   #65%XJumlah responden (4500)\n",
        "sm.stats.proportions_ztest(phat * n, n, pnull, alternative='larger')\n",
        "\n",
        "#Karena nilai p value kurang dari H0, maka tolak H0\n",
        "#Our calculate P-value of 1.2294951052777303e-126 is pretty small,\n",
        "#and we can reject the null hypothesis, which is that social media\n",
        "#23.90916877786327) nilai Z secara statistik"
      ],
      "metadata": {
        "colab": {
          "base_uri": "https://localhost:8080/"
        },
        "id": "PgD6N-KPh7Dj",
        "outputId": "75d72cd8-aa81-420c-fe8e-645f0ab96f5e"
      },
      "execution_count": 2,
      "outputs": [
        {
          "output_type": "execute_result",
          "data": {
            "text/plain": [
              "(np.float64(23.90916877786327), np.float64(1.2294951052777303e-126))"
            ]
          },
          "metadata": {},
          "execution_count": 2
        }
      ]
    },
    {
      "cell_type": "code",
      "source": [
        "import numpy as np\n",
        "sdata = np.random.randint(200, 250, 89)\n",
        "sm.stats.ztest(sdata, value = 80, alternative= \"larger\")"
      ],
      "metadata": {
        "colab": {
          "base_uri": "https://localhost:8080/"
        },
        "id": "5Hq92x8pjXtx",
        "outputId": "f8378693-9328-4e96-8022-cb85d480ce21"
      },
      "execution_count": 3,
      "outputs": [
        {
          "output_type": "execute_result",
          "data": {
            "text/plain": [
              "(np.float64(89.02940188694173), np.float64(0.0))"
            ]
          },
          "metadata": {},
          "execution_count": 3
        }
      ]
    },
    {
      "cell_type": "code",
      "source": [
        "#value ho=80\n",
        "#p value 0.0 tolak Ho.\n",
        "#Nilai rata\" lebih besar dari 80"
      ],
      "metadata": {
        "id": "8u7pxCMWkYeH"
      },
      "execution_count": null,
      "outputs": []
    },
    {
      "cell_type": "code",
      "source": [
        "sdata"
      ],
      "metadata": {
        "colab": {
          "base_uri": "https://localhost:8080/"
        },
        "id": "cwe9Va_DkE7v",
        "outputId": "3d767ab1-3466-42c2-9abc-619574fb8a2a"
      },
      "execution_count": 4,
      "outputs": [
        {
          "output_type": "execute_result",
          "data": {
            "text/plain": [
              "array([228, 237, 218, 246, 246, 242, 217, 202, 212, 249, 244, 202, 242,\n",
              "       243, 222, 205, 230, 217, 227, 224, 246, 201, 248, 247, 207, 224,\n",
              "       225, 242, 235, 205, 236, 224, 220, 239, 233, 201, 246, 214, 229,\n",
              "       234, 249, 212, 206, 217, 200, 201, 205, 244, 229, 209, 210, 239,\n",
              "       231, 229, 227, 239, 248, 200, 242, 209, 203, 236, 224, 222, 241,\n",
              "       232, 231, 215, 234, 210, 210, 217, 204, 238, 234, 208, 235, 247,\n",
              "       209, 249, 230, 205, 209, 242, 206, 225, 231, 223, 240])"
            ]
          },
          "metadata": {},
          "execution_count": 4
        }
      ]
    },
    {
      "cell_type": "markdown",
      "source": [
        "T TEST digunakan untuk jumlah data yang lebih kecil dari 30"
      ],
      "metadata": {
        "id": "NL7YY60bkw23"
      }
    },
    {
      "cell_type": "code",
      "source": [
        "import numpy as np\n",
        "height =np.array([172, 184, 174, 168, 174, 183, 173, 173, 184,\n",
        "179, 171, 173, 181, 183, 172, 178, 170, 182, 181, 172, 175, 170,\n",
        "168, 178, 170, 181, 180, 173, 183, 180, 177, 181, 171, 173, 171,\n",
        "182, 180, 170, 172, 175, 178, 174, 184, 177, 181, 180, 178, 179,\n",
        "175, 170, 182, 176, 183, 179, 177])\n",
        "\n",
        "from scipy.stats import ttest_1samp\n",
        "height_average = np.mean(height)\n",
        "print(\"Average height is = {0:.3f}\".format(height_average))"
      ],
      "metadata": {
        "colab": {
          "base_uri": "https://localhost:8080/"
        },
        "id": "HdI9xVUvkqq_",
        "outputId": "50a24ae0-b7b8-43ad-8dca-91da3fccfc5f"
      },
      "execution_count": 6,
      "outputs": [
        {
          "output_type": "stream",
          "name": "stdout",
          "text": [
            "Average height is = 176.545\n"
          ]
        }
      ]
    },
    {
      "cell_type": "markdown",
      "source": [
        "Ho rata\" tinggi badan = 175\n",
        "H1 rata\" tinggi badan >=175\n",
        "Tolak H0, terima H1 rata\" lebih besar dari 175"
      ],
      "metadata": {
        "id": "7-WkhJtBl_An"
      }
    },
    {
      "cell_type": "code",
      "source": [
        "tset, pval = ttest_1samp(height, 175)\n",
        "print(\"P-value = {}\".format(pval))\n",
        "if pval < 0.05:\n",
        "  print(\"We are rejecting null hypothesis\")\n",
        "else:\n",
        "  print(\"We are accepting the null hypotesis\")"
      ],
      "metadata": {
        "colab": {
          "base_uri": "https://localhost:8080/"
        },
        "id": "aN0-BVVnmHew",
        "outputId": "4ed5fa3a-6c89-4002-b3cc-dbbeb995e655"
      },
      "execution_count": 8,
      "outputs": [
        {
          "output_type": "stream",
          "name": "stdout",
          "text": [
            "P-value = 0.019403337788027563\n",
            "We are rejecting null hypothesis\n"
          ]
        }
      ]
    }
  ]
}